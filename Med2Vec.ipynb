{
  "nbformat": 4,
  "nbformat_minor": 0,
  "metadata": {
    "colab": {
      "name": "Med2Vec",
      "provenance": [],
      "collapsed_sections": [],
      "include_colab_link": true
    },
    "kernelspec": {
      "name": "python2",
      "display_name": "Python 2"
    }
  },
  "cells": [
    {
      "cell_type": "markdown",
      "metadata": {
        "id": "view-in-github",
        "colab_type": "text"
      },
      "source": [
        "<a href=\"https://colab.research.google.com/github/saridsa1/med2vec/blob/master/Med2Vec.ipynb\" target=\"_parent\"><img src=\"https://colab.research.google.com/assets/colab-badge.svg\" alt=\"Open In Colab\"/></a>"
      ]
    },
    {
      "cell_type": "code",
      "metadata": {
        "id": "34BDmMKu7w5O",
        "colab_type": "code",
        "outputId": "7619b89f-0419-460f-b5d6-cd8e530e14d2",
        "colab": {
          "base_uri": "https://localhost:8080/",
          "height": 119
        }
      },
      "source": [
        "!git clone https://github.com/saridsa1/med2vec.git"
      ],
      "execution_count": 0,
      "outputs": [
        {
          "output_type": "stream",
          "text": [
            "Cloning into 'med2vec'...\n",
            "remote: Enumerating objects: 4, done.\u001b[K\n",
            "remote: Counting objects: 100% (4/4), done.\u001b[K\n",
            "remote: Compressing objects: 100% (4/4), done.\u001b[K\n",
            "remote: Total 68 (delta 0), reused 3 (delta 0), pack-reused 64\u001b[K\n",
            "Unpacking objects: 100% (68/68), done.\n"
          ],
          "name": "stdout"
        }
      ]
    },
    {
      "cell_type": "code",
      "metadata": {
        "id": "8h6M7w88FdUS",
        "colab_type": "code",
        "outputId": "1673710c-c9fe-4884-a8df-a581d8e2e31e",
        "colab": {
          "base_uri": "https://localhost:8080/",
          "height": 153
        }
      },
      "source": [
        "import sys\n",
        "import cPickle as pickle\n",
        "from datetime import datetime\n",
        "\n",
        "def convert_to_icd9(dxStr):\n",
        "\tif dxStr.startswith('E'):\n",
        "\t\tif len(dxStr) > 4: return dxStr[:4] + '.' + dxStr[4:]\n",
        "\t\telse: return dxStr\n",
        "\telse:\n",
        "\t\tif len(dxStr) > 3: return dxStr[:3] + '.' + dxStr[3:]\n",
        "\t\telse: return dxStr\n",
        "\t\n",
        "def convert_to_3digit_icd9(dxStr):\n",
        "\tif dxStr.startswith('E'):\n",
        "\t\tif len(dxStr) > 4: return dxStr[:4]\n",
        "\t\telse: return dxStr\n",
        "\telse:\n",
        "\t\tif len(dxStr) > 3: return dxStr[:3]\n",
        "\t\telse: return dxStr\n",
        "\n",
        "admissionFile = '/content/med2vec/admissions.csv' #/content/med2vec/admissions.csv\n",
        "diagnosisFile = '/content/med2vec/diagnosis.csv' #/content/med2vec/diagnosis.csv\n",
        "outFile = '/content/med2vecinput'\n",
        "\n",
        "print 'Building pid-admission mapping, admission-date mapping'\n",
        "pidAdmMap = {}\n",
        "admDateMap = {}\n",
        "infd = open(admissionFile, 'r')\n",
        "infd.readline()\n",
        "for line in infd:\n",
        "  tokens = line.strip().split(',')\n",
        "  pid = int(tokens[1])\n",
        "  admId = int(tokens[2])\n",
        "  admTime = datetime.strptime(tokens[3], '%Y-%m-%d %H:%M:%S')\n",
        "  admDateMap[admId] = admTime\n",
        "  if pid in pidAdmMap: pidAdmMap[pid].append(admId)\n",
        "  else: pidAdmMap[pid] = [admId]\n",
        "infd.close()\n",
        "\n",
        "print 'Building admission-dxList mapping'\n",
        "admDxMap = {}\n",
        "admDxMap_3digit = {}\n",
        "infd = open(diagnosisFile, 'r')\n",
        "infd.readline()\n",
        "for line in infd:\n",
        "  tokens = line.strip().split(',')\n",
        "  admId = int(tokens[2])\n",
        "  dxStr = 'D_' + convert_to_icd9(tokens[3][1:-1]) ############## Uncomment this line and comment the line below, if you want to use the entire ICD9 digits.\n",
        "  dxStr_3digit = 'D_' + convert_to_3digit_icd9(tokens[3][1:-1])\n",
        "\n",
        "  if admId in admDxMap: \n",
        "    admDxMap[admId].append(dxStr)\n",
        "  else: \n",
        "    admDxMap[admId] = [dxStr]\n",
        "\n",
        "  if admId in admDxMap_3digit: \n",
        "    admDxMap_3digit[admId].append(dxStr_3digit)\n",
        "  else: \n",
        "    admDxMap_3digit[admId] = [dxStr_3digit]\n",
        "infd.close()\n",
        "\n",
        "print 'Building pid-sortedVisits mapping'\n",
        "pidSeqMap = {}\n",
        "pidSeqMap_3digit = {}\n",
        "for pid, admIdList in pidAdmMap.iteritems():\n",
        "  if len(admIdList) < 2: continue\n",
        "\n",
        "  sortedList = sorted([(admDateMap[admId], admDxMap[admId]) for admId in admIdList])\n",
        "  pidSeqMap[pid] = sortedList\n",
        "\n",
        "  sortedList_3digit = sorted([(admDateMap[admId], admDxMap_3digit[admId]) for admId in admIdList])\n",
        "  pidSeqMap_3digit[pid] = sortedList_3digit\n",
        "\n",
        "print 'Building pids, dates, strSeqs'\n",
        "pids = []\n",
        "dates = []\n",
        "seqs = []\n",
        "for pid, visits in pidSeqMap.iteritems():\n",
        "  pids.append(pid)\n",
        "  seq = []\n",
        "  date = []\n",
        "  for visit in visits:\n",
        "    date.append(visit[0])\n",
        "    seq.append(visit[1])\n",
        "  dates.append(date)\n",
        "  seqs.append(seq)\n",
        "\n",
        "print 'Building pids, dates, strSeqs for 3digit ICD9 code'\n",
        "seqs_3digit = []\n",
        "for pid, visits in pidSeqMap_3digit.iteritems():\n",
        "  seq = []\n",
        "  for visit in visits:\n",
        "    seq.append(visit[1])\n",
        "  seqs_3digit.append(seq)\n",
        "\n",
        "print 'Converting strSeqs to intSeqs, and making types'\n",
        "types = {}\n",
        "newSeqs = []\n",
        "for patient in seqs:\n",
        "  newPatient = []\n",
        "  for visit in patient:\n",
        "    newVisit = []\n",
        "    for code in visit:\n",
        "      if code in types:\n",
        "        newVisit.append(types[code])\n",
        "      else:\n",
        "        types[code] = len(types)\n",
        "        newVisit.append(types[code])\n",
        "    newPatient.append(newVisit)\n",
        "  newSeqs.append(newPatient)\n",
        "\n",
        "print 'Converting strSeqs to intSeqs, and making types for 3digit ICD9 code'\n",
        "types_3digit = {}\n",
        "newSeqs_3digit = []\n",
        "for patient in seqs_3digit:\n",
        "  newPatient = []\n",
        "  for visit in patient:\n",
        "    newVisit = []\n",
        "    for code in set(visit):\n",
        "      if code in types_3digit:\n",
        "        newVisit.append(types_3digit[code])\n",
        "      else:\n",
        "        types_3digit[code] = len(types_3digit)\n",
        "        newVisit.append(types_3digit[code])\n",
        "    newPatient.append(newVisit)\n",
        "  newSeqs_3digit.append(newPatient)\n",
        "\n",
        "print 'Re-formatting to Med2Vec dataset'\n",
        "seqs = []\n",
        "for patient in newSeqs:\n",
        "  seqs.extend(patient)\n",
        "  seqs.append([-1])\n",
        "seqs = seqs[:-1]\n",
        "\n",
        "seqs_3digit = []\n",
        "for patient in newSeqs_3digit:\n",
        "  seqs_3digit.extend(patient)\n",
        "  seqs_3digit.append([-1])\n",
        "seqs_3digit = seqs_3digit[:-1]\n",
        "\n",
        "pickle.dump(seqs, open(outFile+'.seqs', 'wb'), -1)\n",
        "pickle.dump(types, open(outFile+'.types', 'wb'), -1)\n",
        "pickle.dump(seqs_3digit, open(outFile+'.3digitICD9.seqs', 'wb'), -1)\n",
        "pickle.dump(types_3digit, open(outFile+'.3digitICD9.types', 'wb'), -1)"
      ],
      "execution_count": 0,
      "outputs": [
        {
          "output_type": "stream",
          "text": [
            "Building pid-admission mapping, admission-date mapping\n",
            "Building admission-dxList mapping\n",
            "Building pid-sortedVisits mapping\n",
            "Building pids, dates, strSeqs\n",
            "Building pids, dates, strSeqs for 3digit ICD9 code\n",
            "Converting strSeqs to intSeqs, and making types\n",
            "Converting strSeqs to intSeqs, and making types for 3digit ICD9 code\n",
            "Re-formatting to Med2Vec dataset\n"
          ],
          "name": "stdout"
        }
      ]
    },
    {
      "cell_type": "code",
      "metadata": {
        "id": "c6_9sfDOPlWk",
        "colab_type": "code",
        "colab": {}
      },
      "source": [
        "import sys\n",
        "sys.path.append('/content/med2vec')"
      ],
      "execution_count": 0,
      "outputs": []
    },
    {
      "cell_type": "code",
      "metadata": {
        "id": "lB5gz_38QSPA",
        "colab_type": "code",
        "outputId": "6787e183-2163-4150-f2bf-56fd1a690301",
        "colab": {
          "base_uri": "https://localhost:8080/",
          "height": 272
        }
      },
      "source": [
        "!python /content/med2vec/med2vec.py '/content/med2vecinput.3digitICD9.seqs' 942 '/content/med2vecoutput'"
      ],
      "execution_count": 0,
      "outputs": [
        {
          "output_type": "stream",
          "text": [
            "initializing parameters\n",
            "building models\n",
            "WARNING (theano.tensor.blas): We did not find a dynamic library in the library_dir of the library we use for blas. If you use ATLAS, make sure to compile it with dynamics library.\n",
            "loading data\n",
            "training start\n",
            "epoch:0, mean_cost:68.983670\n",
            "epoch:1, mean_cost:39.997908\n",
            "epoch:2, mean_cost:38.035020\n",
            "epoch:3, mean_cost:36.978985\n",
            "epoch:4, mean_cost:36.064517\n",
            "epoch:5, mean_cost:35.249457\n",
            "epoch:6, mean_cost:34.043896\n",
            "epoch:7, mean_cost:35.143960\n",
            "epoch:8, mean_cost:36.392260\n",
            "epoch:9, mean_cost:31.220896\n"
          ],
          "name": "stdout"
        }
      ]
    }
  ]
}